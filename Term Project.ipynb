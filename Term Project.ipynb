{
 "cells": [
  {
   "cell_type": "markdown",
   "metadata": {},
   "source": [
    "# 기계학습 기말과제\n",
    "###                                                컴퓨터학과 2014210007 서영남"
   ]
  },
  {
   "cell_type": "markdown",
   "metadata": {},
   "source": [
    "### 1. 실험 내용에 대한 전체 요약\n",
    "이 실험은 census income data set을 이용해서 여러 classification model을 설계해 각 model의 성능과 결과를 비교함으로써 data set에 대해 깊은 이해를 하는 데 그 목적이 있다. Data set에 대해 전반적인 이해가 되어야 model을 제대로 설계할 수 있기 때문에 본격적인 설계 전에 각 attribute에 대한 이해를 완벽하게 하려고 노력했다. attribute 사이의 관계를 파악하고, 필요 없는 attribute는 삭제하고 missing value를 처리하는 등의 preprocessing 작업을 먼저 했다. 그리고 data set을 모델에 적용하기 위해 적절하게 가공했고, 전체 data set을 training set, test set, validation set으로 나누었다. 마지막으로 여러 classifier를 data set에 적용하고 결과에 따라 model의 세부사항을 수정하는 작업을 했다. "
   ]
  },
  {
   "cell_type": "markdown",
   "metadata": {},
   "source": [
    "### 2. 선정 데이터에 대한 설명 및 url\n",
    "1) 이름\n",
    "- Census Income Data set\n",
    "\n",
    "2) Data set에 대한 설명\n",
    "- 전체 instance 수는 48842이고 이는 unknown/missing value를 포함한 개수이다. 따라서 missing value에 대한 전처리 작업을 해줘야 한다. \n",
    "- 전체 attribute 수는 14개이며 8개의 categorical attributes, 6개의 continuous attributes를 가진다. 각 attribute의 값들은 다음과 같다. \n",
    "\n",
    "- age: continuous. \n",
    "- workclass: Private, Self-emp-not-inc, Self-emp-inc, Federal-gov, Local-gov, State-gov, Without-pay, Never-worked. \n",
    "- fnlwgt: continuous. \n",
    "- education: Bachelors, Some-college, 11th, HS-grad, Prof-school, Assoc-acdm, Assoc-voc, 9th, 7th-8th, 12th, Masters, 1st-4th, 10th, Doctorate, 5th-6th, Preschool. \n",
    "- education-num: continuous. \n",
    "- marital-status: Married-civ-spouse, Divorced, Never-married, Separated, Widowed, Married-spouse-absent, Married-AF-spouse. \n",
    "- occupation: Tech-support, Craft-repair, Other-service, Sales, Exec-managerial, Prof-specialty, Handlers-cleaners, Machine-op-inspct, Adm-clerical, Farming-fishing, Transport-moving, Priv-house-serv, Protective-serv, Armed-Forces. \n",
    "- relationship: Wife, Own-child, Husband, Not-in-family, Other-relative, Unmarried. \n",
    "- race: White, Asian-Pac-Islander, Amer-Indian-Eskimo, Other, Black. \n",
    "- sex: Female, Male. \n",
    "- capital-gain: continuous. \n",
    "- capital-loss: continuous. \n",
    "- hours-per-week: continuous. \n",
    "- native-country: United-States, Cambodia, England, Puerto-Rico, Canada, Germany, Outlying-US(Guam-USVI-etc), India, Japan, Greece, South, China, Cuba, Iran, Honduras, Philippines, Italy, Poland, Jamaica, Vietnam, Mexico, Portugal, Ireland, France, Dominican-Republic, Laos, Ecuador, Taiwan, Haiti, Columbia, Hungary, Guatemala, Nicaragua, Scotland, Thailand, Yugoslavia, El-Salvador, Trinadad&Tobago, Peru, Hong, Holand-Netherlands.\n",
    "\n",
    "- 이 data set의 attribute들을 통해서 예측하고자 하는 것은 어떤 사람이 1년에 50K 이상을 벌 수 있는지 여부이다. 참고로, 전체 instance 중 76%가 50K이하의 salary를 받는 것으로 나타난다. \n",
    "\n",
    "3) url\n",
    "http://archive.ics.uci.edu/ml/datasets/Census+Income\n",
    "\n",
    "4) continous attributes 분포"
   ]
  },
  {
   "cell_type": "code",
   "execution_count": 1,
   "metadata": {},
   "outputs": [
    {
     "data": {
      "text/html": [
       "<div>\n",
       "<style scoped>\n",
       "    .dataframe tbody tr th:only-of-type {\n",
       "        vertical-align: middle;\n",
       "    }\n",
       "\n",
       "    .dataframe tbody tr th {\n",
       "        vertical-align: top;\n",
       "    }\n",
       "\n",
       "    .dataframe thead th {\n",
       "        text-align: right;\n",
       "    }\n",
       "</style>\n",
       "<table border=\"1\" class=\"dataframe\">\n",
       "  <thead>\n",
       "    <tr style=\"text-align: right;\">\n",
       "      <th></th>\n",
       "      <th>age</th>\n",
       "      <th>final weight</th>\n",
       "      <th>education-num</th>\n",
       "      <th>capital-gain</th>\n",
       "      <th>capital-loss</th>\n",
       "      <th>hours-per-week</th>\n",
       "    </tr>\n",
       "  </thead>\n",
       "  <tbody>\n",
       "    <tr>\n",
       "      <th>count</th>\n",
       "      <td>32561.000000</td>\n",
       "      <td>3.256100e+04</td>\n",
       "      <td>32561.000000</td>\n",
       "      <td>32561.000000</td>\n",
       "      <td>32561.000000</td>\n",
       "      <td>32561.000000</td>\n",
       "    </tr>\n",
       "    <tr>\n",
       "      <th>mean</th>\n",
       "      <td>38.581647</td>\n",
       "      <td>1.897784e+05</td>\n",
       "      <td>10.080679</td>\n",
       "      <td>1077.648844</td>\n",
       "      <td>87.303830</td>\n",
       "      <td>40.437456</td>\n",
       "    </tr>\n",
       "    <tr>\n",
       "      <th>std</th>\n",
       "      <td>13.640433</td>\n",
       "      <td>1.055500e+05</td>\n",
       "      <td>2.572720</td>\n",
       "      <td>7385.292085</td>\n",
       "      <td>402.960219</td>\n",
       "      <td>12.347429</td>\n",
       "    </tr>\n",
       "    <tr>\n",
       "      <th>min</th>\n",
       "      <td>17.000000</td>\n",
       "      <td>1.228500e+04</td>\n",
       "      <td>1.000000</td>\n",
       "      <td>0.000000</td>\n",
       "      <td>0.000000</td>\n",
       "      <td>1.000000</td>\n",
       "    </tr>\n",
       "    <tr>\n",
       "      <th>25%</th>\n",
       "      <td>28.000000</td>\n",
       "      <td>1.178270e+05</td>\n",
       "      <td>9.000000</td>\n",
       "      <td>0.000000</td>\n",
       "      <td>0.000000</td>\n",
       "      <td>40.000000</td>\n",
       "    </tr>\n",
       "    <tr>\n",
       "      <th>50%</th>\n",
       "      <td>37.000000</td>\n",
       "      <td>1.783560e+05</td>\n",
       "      <td>10.000000</td>\n",
       "      <td>0.000000</td>\n",
       "      <td>0.000000</td>\n",
       "      <td>40.000000</td>\n",
       "    </tr>\n",
       "    <tr>\n",
       "      <th>75%</th>\n",
       "      <td>48.000000</td>\n",
       "      <td>2.370510e+05</td>\n",
       "      <td>12.000000</td>\n",
       "      <td>0.000000</td>\n",
       "      <td>0.000000</td>\n",
       "      <td>45.000000</td>\n",
       "    </tr>\n",
       "    <tr>\n",
       "      <th>max</th>\n",
       "      <td>90.000000</td>\n",
       "      <td>1.484705e+06</td>\n",
       "      <td>16.000000</td>\n",
       "      <td>99999.000000</td>\n",
       "      <td>4356.000000</td>\n",
       "      <td>99.000000</td>\n",
       "    </tr>\n",
       "  </tbody>\n",
       "</table>\n",
       "</div>"
      ],
      "text/plain": [
       "                age  final weight  education-num  capital-gain  capital-loss  \\\n",
       "count  32561.000000  3.256100e+04   32561.000000  32561.000000  32561.000000   \n",
       "mean      38.581647  1.897784e+05      10.080679   1077.648844     87.303830   \n",
       "std       13.640433  1.055500e+05       2.572720   7385.292085    402.960219   \n",
       "min       17.000000  1.228500e+04       1.000000      0.000000      0.000000   \n",
       "25%       28.000000  1.178270e+05       9.000000      0.000000      0.000000   \n",
       "50%       37.000000  1.783560e+05      10.000000      0.000000      0.000000   \n",
       "75%       48.000000  2.370510e+05      12.000000      0.000000      0.000000   \n",
       "max       90.000000  1.484705e+06      16.000000  99999.000000   4356.000000   \n",
       "\n",
       "       hours-per-week  \n",
       "count    32561.000000  \n",
       "mean        40.437456  \n",
       "std         12.347429  \n",
       "min          1.000000  \n",
       "25%         40.000000  \n",
       "50%         40.000000  \n",
       "75%         45.000000  \n",
       "max         99.000000  "
      ]
     },
     "execution_count": 1,
     "metadata": {},
     "output_type": "execute_result"
    }
   ],
   "source": [
    "import pandas as pd\n",
    "import numpy as np\n",
    "import matplotlib.pyplot as plt\n",
    "%matplotlib inline\n",
    "import seaborn as sns\n",
    "train_path = 'C:/anaconda/dataset/adult.csv'\n",
    "test_path = 'C:/anaconda/dataset/adult_test.csv'\n",
    "adult_train = pd.read_csv(train_path, na_values = \" ?\")\n",
    "adult_test = pd.read_csv(test_path, na_values = \" ?\")\n",
    "adult_train.describe()"
   ]
  },
  {
   "cell_type": "markdown",
   "metadata": {},
   "source": [
    "### 3. 실험 설계 및 방법\n",
    "### (1) Preprocessing"
   ]
  },
  {
   "cell_type": "markdown",
   "metadata": {},
   "source": [
    "#### unknown data 처리\n",
    "data description을 통해 알 수 있듯이, unknown data는 '?'로 표시되어있다. \n",
    "이 data set은 충분히 크기 때문에 그 값들을 null 값으로 바꿔준 후에 이를 포함한 instance는 모두 삭제했다. "
   ]
  },
  {
   "cell_type": "code",
   "execution_count": 2,
   "metadata": {
    "scrolled": true
   },
   "outputs": [
    {
     "data": {
      "text/plain": [
       "age               30162\n",
       "workclass         30162\n",
       "final weight      30162\n",
       "education         30162\n",
       "education-num     30162\n",
       "marital-status    30162\n",
       "occupation        30162\n",
       "relationship      30162\n",
       "race              30162\n",
       "sex               30162\n",
       "capital-gain      30162\n",
       "capital-loss      30162\n",
       "hours-per-week    30162\n",
       "native-country    30162\n",
       "Class             30162\n",
       "dtype: int64"
      ]
     },
     "execution_count": 2,
     "metadata": {},
     "output_type": "execute_result"
    }
   ],
   "source": [
    "adult_train = adult_train.dropna(axis=0, how='any')\n",
    "adult_test = adult_test.dropna(axis=0, how='any')\n",
    "adult_train.count()"
   ]
  },
  {
   "cell_type": "markdown",
   "metadata": {},
   "source": [
    "#### numeric attribute을 통한 분석(1)\n",
    "아래의 그림은 numeric attribute에 대한 boxplot 그래프들이다. \n",
    "age, education-num, hours-per-week의 그림을 보면, Class(50K 초과/50K 이하)에 따라서 그 분포의 차이가 눈에 띄게 나타남을 알 수 있다. 예를 들어, class - education-num 그래프를 보면, education-num 값이 큰 쪽에 50K> Class가 더 많이 분포한다.\n",
    "따라서 이 3개의 attribute은 Class를 예측하는 데 큰 도움이 된다는 것을 알 수 있다. "
   ]
  },
  {
   "cell_type": "code",
   "execution_count": 3,
   "metadata": {},
   "outputs": [
    {
     "data": {
      "text/plain": [
       "<matplotlib.axes._subplots.AxesSubplot at 0x204ef48ac50>"
      ]
     },
     "execution_count": 3,
     "metadata": {},
     "output_type": "execute_result"
    },
    {
     "data": {
      "image/png": "[encoded data removed]",
      "text/plain": [
       "<Figure size 720x504 with 6 Axes>"
      ]
     },
     "metadata": {
      "needs_background": "light"
     },
     "output_type": "display_data"
    }
   ],
   "source": [
    "fig = plt.figure(figsize=(10, 7))\n",
    "plt.subplot(2,6,1)\n",
    "sns.boxplot(x = 'Class', y = 'final weight', data = adult_train)\n",
    "plt.subplot(2,6,3)\n",
    "sns.boxplot(x = 'Class', y = 'age', data = adult_train)\n",
    "plt.subplot(2,6,5)\n",
    "sns.boxplot(x = 'Class', y = 'education-num', data = adult_train)\n",
    "plt.subplot(2,6,7)\n",
    "sns.boxplot(x = 'Class', y = 'capital-gain', data = adult_train)\n",
    "plt.subplot(2,6,9)\n",
    "sns.boxplot(x = 'Class', y = 'capital-loss', data = adult_train)\n",
    "plt.subplot(2,6,11)\n",
    "sns.boxplot(x = 'Class', y = 'hours-per-week', data = adult_train)"
   ]
  },
  {
   "cell_type": "markdown",
   "metadata": {},
   "source": [
    "#### numeric attribute을 통한 분석(2)\n",
    "아래는 numeric attribute들에 관련된 통계분석 결과들이다. 주목할 점은, capital-gain과 captial-loss attribute의 최소값이 각각 0인데 75%지점까지의 값 모두 0인 것을 확인할 수 있다. 따라서 자세히 확인하기 위해 value_counts() 함수를 이용해보면, attribute에 대해 0의 값을 가진 instance가 각각 27624, 28735개 임을 확인할 수 있다. 이를 통해 이 두 attribute는 Class를 예측하는 데 큰 기여를 할 수 없다는 것을 알 수 있다. "
   ]
  },
  {
   "cell_type": "code",
   "execution_count": 4,
   "metadata": {},
   "outputs": [
    {
     "data": {
      "text/html": [
       "<div>\n",
       "<style scoped>\n",
       "    .dataframe tbody tr th:only-of-type {\n",
       "        vertical-align: middle;\n",
       "    }\n",
       "\n",
       "    .dataframe tbody tr th {\n",
       "        vertical-align: top;\n",
       "    }\n",
       "\n",
       "    .dataframe thead th {\n",
       "        text-align: right;\n",
       "    }\n",
       "</style>\n",
       "<table border=\"1\" class=\"dataframe\">\n",
       "  <thead>\n",
       "    <tr style=\"text-align: right;\">\n",
       "      <th></th>\n",
       "      <th>age</th>\n",
       "      <th>final weight</th>\n",
       "      <th>education-num</th>\n",
       "      <th>capital-gain</th>\n",
       "      <th>capital-loss</th>\n",
       "      <th>hours-per-week</th>\n",
       "    </tr>\n",
       "  </thead>\n",
       "  <tbody>\n",
       "    <tr>\n",
       "      <th>count</th>\n",
       "      <td>30162.000000</td>\n",
       "      <td>3.016200e+04</td>\n",
       "      <td>30162.000000</td>\n",
       "      <td>30162.000000</td>\n",
       "      <td>30162.000000</td>\n",
       "      <td>30162.000000</td>\n",
       "    </tr>\n",
       "    <tr>\n",
       "      <th>mean</th>\n",
       "      <td>38.437902</td>\n",
       "      <td>1.897938e+05</td>\n",
       "      <td>10.121312</td>\n",
       "      <td>1092.007858</td>\n",
       "      <td>88.372489</td>\n",
       "      <td>40.931238</td>\n",
       "    </tr>\n",
       "    <tr>\n",
       "      <th>std</th>\n",
       "      <td>13.134665</td>\n",
       "      <td>1.056530e+05</td>\n",
       "      <td>2.549995</td>\n",
       "      <td>7406.346497</td>\n",
       "      <td>404.298370</td>\n",
       "      <td>11.979984</td>\n",
       "    </tr>\n",
       "    <tr>\n",
       "      <th>min</th>\n",
       "      <td>17.000000</td>\n",
       "      <td>1.376900e+04</td>\n",
       "      <td>1.000000</td>\n",
       "      <td>0.000000</td>\n",
       "      <td>0.000000</td>\n",
       "      <td>1.000000</td>\n",
       "    </tr>\n",
       "    <tr>\n",
       "      <th>25%</th>\n",
       "      <td>28.000000</td>\n",
       "      <td>1.176272e+05</td>\n",
       "      <td>9.000000</td>\n",
       "      <td>0.000000</td>\n",
       "      <td>0.000000</td>\n",
       "      <td>40.000000</td>\n",
       "    </tr>\n",
       "    <tr>\n",
       "      <th>50%</th>\n",
       "      <td>37.000000</td>\n",
       "      <td>1.784250e+05</td>\n",
       "      <td>10.000000</td>\n",
       "      <td>0.000000</td>\n",
       "      <td>0.000000</td>\n",
       "      <td>40.000000</td>\n",
       "    </tr>\n",
       "    <tr>\n",
       "      <th>75%</th>\n",
       "      <td>47.000000</td>\n",
       "      <td>2.376285e+05</td>\n",
       "      <td>13.000000</td>\n",
       "      <td>0.000000</td>\n",
       "      <td>0.000000</td>\n",
       "      <td>45.000000</td>\n",
       "    </tr>\n",
       "    <tr>\n",
       "      <th>max</th>\n",
       "      <td>90.000000</td>\n",
       "      <td>1.484705e+06</td>\n",
       "      <td>16.000000</td>\n",
       "      <td>99999.000000</td>\n",
       "      <td>4356.000000</td>\n",
       "      <td>99.000000</td>\n",
       "    </tr>\n",
       "  </tbody>\n",
       "</table>\n",
       "</div>"
      ],
      "text/plain": [
       "                age  final weight  education-num  capital-gain  capital-loss  \\\n",
       "count  30162.000000  3.016200e+04   30162.000000  30162.000000  30162.000000   \n",
       "mean      38.437902  1.897938e+05      10.121312   1092.007858     88.372489   \n",
       "std       13.134665  1.056530e+05       2.549995   7406.346497    404.298370   \n",
       "min       17.000000  1.376900e+04       1.000000      0.000000      0.000000   \n",
       "25%       28.000000  1.176272e+05       9.000000      0.000000      0.000000   \n",
       "50%       37.000000  1.784250e+05      10.000000      0.000000      0.000000   \n",
       "75%       47.000000  2.376285e+05      13.000000      0.000000      0.000000   \n",
       "max       90.000000  1.484705e+06      16.000000  99999.000000   4356.000000   \n",
       "\n",
       "       hours-per-week  \n",
       "count    30162.000000  \n",
       "mean        40.931238  \n",
       "std         11.979984  \n",
       "min          1.000000  \n",
       "25%         40.000000  \n",
       "50%         40.000000  \n",
       "75%         45.000000  \n",
       "max         99.000000  "
      ]
     },
     "execution_count": 4,
     "metadata": {},
     "output_type": "execute_result"
    }
   ],
   "source": [
    "adult_train.describe()"
   ]
  },
  {
   "cell_type": "code",
   "execution_count": 5,
   "metadata": {},
   "outputs": [
    {
     "data": {
      "text/plain": [
       "0        27624\n",
       "15024      337\n",
       "7688       270\n",
       "7298       240\n",
       "99999      148\n",
       "3103        94\n",
       "5178        91\n",
       "5013        69\n",
       "4386        67\n",
       "3325        53\n",
       "8614        52\n",
       "2174        46\n",
       "10520       43\n",
       "4650        40\n",
       "4064        40\n",
       "14084       39\n",
       "3137        36\n",
       "20051       33\n",
       "27828       32\n",
       "3908        31\n",
       "2829        30\n",
       "594         28\n",
       "6849        26\n",
       "14344       26\n",
       "13550       25\n",
       "4787        22\n",
       "2885        22\n",
       "3411        21\n",
       "1055        21\n",
       "2597        20\n",
       "         ...  \n",
       "4687         3\n",
       "3418         3\n",
       "2228         3\n",
       "6360         3\n",
       "5721         3\n",
       "2936         3\n",
       "6723         2\n",
       "2961         2\n",
       "3456         2\n",
       "2062         2\n",
       "41310        2\n",
       "3432         2\n",
       "25124        2\n",
       "2009         2\n",
       "7896         2\n",
       "18481        2\n",
       "11678        2\n",
       "2387         1\n",
       "5060         1\n",
       "7978         1\n",
       "2538         1\n",
       "2993         1\n",
       "1173         1\n",
       "1086         1\n",
       "6097         1\n",
       "401          1\n",
       "22040        1\n",
       "4931         1\n",
       "1455         1\n",
       "1639         1\n",
       "Name: capital-gain, Length: 118, dtype: int64"
      ]
     },
     "execution_count": 5,
     "metadata": {},
     "output_type": "execute_result"
    }
   ],
   "source": [
    "adult_train['capital-gain'].value_counts()"
   ]
  },
  {
   "cell_type": "code",
   "execution_count": 6,
   "metadata": {},
   "outputs": [
    {
     "data": {
      "text/plain": [
       "0       28735\n",
       "1902      194\n",
       "1977      162\n",
       "1887      155\n",
       "1848       50\n",
       "1485       45\n",
       "2415       45\n",
       "1740       41\n",
       "1876       39\n",
       "1590       37\n",
       "1672       34\n",
       "1602       34\n",
       "2258       25\n",
       "1564       24\n",
       "1741       23\n",
       "1980       23\n",
       "1669       23\n",
       "2001       21\n",
       "2051       21\n",
       "1579       20\n",
       "1719       20\n",
       "2002       20\n",
       "1408       19\n",
       "1974       18\n",
       "2377       17\n",
       "1504       16\n",
       "1721       16\n",
       "2339       14\n",
       "2179       14\n",
       "1762       13\n",
       "        ...  \n",
       "1668        3\n",
       "1735        2\n",
       "1755        2\n",
       "2352        2\n",
       "2149        2\n",
       "1138        2\n",
       "810         2\n",
       "3683        2\n",
       "1648        2\n",
       "2238        2\n",
       "1816        2\n",
       "2754        2\n",
       "3900        2\n",
       "974         2\n",
       "2129        2\n",
       "3770        2\n",
       "3004        1\n",
       "2080        1\n",
       "4356        1\n",
       "1944        1\n",
       "2282        1\n",
       "155         1\n",
       "2201        1\n",
       "2457        1\n",
       "1844        1\n",
       "419         1\n",
       "1411        1\n",
       "1539        1\n",
       "2472        1\n",
       "2467        1\n",
       "Name: capital-loss, Length: 90, dtype: int64"
      ]
     },
     "execution_count": 6,
     "metadata": {},
     "output_type": "execute_result"
    }
   ],
   "source": [
    "adult_train['capital-loss'].value_counts()"
   ]
  },
  {
   "cell_type": "markdown",
   "metadata": {},
   "source": [
    "#### nominal attribute을 통한 분석\n",
    "country attribute의 91%가 United States,\n",
    "race attribute의 85.9%가 White이기 때문에 이 두 attribute도 Class를 예측하는 데 큰 기여를 할 수 없음을 알 수 있다. "
   ]
  },
  {
   "cell_type": "code",
   "execution_count": 7,
   "metadata": {},
   "outputs": [
    {
     "data": {
      "image/png": "[encoded data removed]",
      "text/plain": [
       "<Figure size 1440x432 with 1 Axes>"
      ]
     },
     "metadata": {
      "needs_background": "light"
     },
     "output_type": "display_data"
    }
   ],
   "source": [
    "fig = plt.figure(figsize=(20,6))\n",
    "sns.countplot('native-country', hue = 'Class', data=adult_train)\n",
    "plt.tight_layout()\n",
    "plt.show()"
   ]
  },
  {
   "cell_type": "code",
   "execution_count": 8,
   "metadata": {},
   "outputs": [
    {
     "data": {
      "image/png": "[encoded data removed]",
      "text/plain": [
       "<Figure size 720x216 with 1 Axes>"
      ]
     },
     "metadata": {
      "needs_background": "light"
     },
     "output_type": "display_data"
    }
   ],
   "source": [
    "fig = plt.figure(figsize=(10,3))\n",
    "sns.countplot('race', hue = 'Class', data=adult_train)\n",
    "plt.tight_layout()\n",
    "plt.show()"
   ]
  },
  {
   "cell_type": "code",
   "execution_count": 9,
   "metadata": {},
   "outputs": [
    {
     "data": {
      "text/plain": [
       " United-States    0.911876\n",
       " Mexico           0.020224\n",
       " Philippines      0.006233\n",
       " Germany          0.004244\n",
       " Puerto-Rico      0.003614\n",
       "Name: native-country, dtype: float64"
      ]
     },
     "execution_count": 9,
     "metadata": {},
     "output_type": "execute_result"
    }
   ],
   "source": [
    "(adult_train['native-country'].value_counts() / adult_train.shape[0]).head()"
   ]
  },
  {
   "cell_type": "code",
   "execution_count": 10,
   "metadata": {},
   "outputs": [
    {
     "data": {
      "text/plain": [
       " White                 0.859790\n",
       " Black                 0.093396\n",
       " Asian-Pac-Islander    0.029673\n",
       " Amer-Indian-Eskimo    0.009482\n",
       " Other                 0.007659\n",
       "Name: race, dtype: float64"
      ]
     },
     "execution_count": 10,
     "metadata": {},
     "output_type": "execute_result"
    }
   ],
   "source": [
    "(adult_train['race'].value_counts() / adult_train.shape[0]).head()"
   ]
  },
  {
   "cell_type": "markdown",
   "metadata": {},
   "source": [
    "#### 상관관계를 통한 분석(1)\n",
    "numeric attribute들 사이의 상관관계를 확인하기 위해 heatmap을 이용했다. \n",
    "밝을수록 양의 상관관계를 가진다는 것을 통해 밑의 그래프를 보면, 모두 어두운 값들을 나타내는 것으로 보아 numeric attribute들 사이에는 상관관계가 거의 없다는 것을 알 수 있다. "
   ]
  },
  {
   "cell_type": "code",
   "execution_count": 11,
   "metadata": {},
   "outputs": [
    {
     "data": {
      "text/plain": [
       "<matplotlib.axes._subplots.AxesSubplot at 0x204ef7cf6a0>"
      ]
     },
     "execution_count": 11,
     "metadata": {},
     "output_type": "execute_result"
    },
    {
     "data": {
      "image/png": "[encoded data removed]",
      "text/plain": [
       "<Figure size 432x288 with 2 Axes>"
      ]
     },
     "metadata": {
      "needs_background": "light"
     },
     "output_type": "display_data"
    }
   ],
   "source": [
    "corr = adult_train.corr()\n",
    "sns.heatmap(corr, xticklabels=corr.columns.values, yticklabels=corr.columns.values)"
   ]
  },
  {
   "cell_type": "markdown",
   "metadata": {},
   "source": [
    "#### 상관관계를 통한 분석(2)\n",
    "numeric attribute 사이의 상관관계를 확인해봤으니, nominal attribute과 numeric attribute 사이의 상관관계도 파악해볼 필요가 있다. 아래의 함수 number_encode_features는 nominal attribute의 값들을 숫자로 할당하는 함수로, 이를 이용해 각 attribute 사이의 상관관계를 모두 파악할 수 있다. \n",
    "이를 통해 알 수 있는 것은 education-num과 education 사이에서 높은 상관관계를 보이므로 둘 중 한 attribute를 삭제해야 한다는 것이다. numeric attribute가 더 활용하기 쉽기 때문에 여기서는 education attribute를 삭제할 것이다. "
   ]
  },
  {
   "cell_type": "code",
   "execution_count": 12,
   "metadata": {},
   "outputs": [
    {
     "data": {
      "image/png": "[encoded data removed]",
      "text/plain": [
       "<Figure size 432x288 with 2 Axes>"
      ]
     },
     "metadata": {
      "needs_background": "light"
     },
     "output_type": "display_data"
    }
   ],
   "source": [
    "from sklearn.preprocessing import LabelEncoder\n",
    "import sklearn.preprocessing as preprocessing\n",
    "def number_encode_features(df):\n",
    "    result = df.copy()\n",
    "    encoders = {}\n",
    "    for column in result.columns:\n",
    "        if result.dtypes[column] == np.object:\n",
    "            encoders[column] = preprocessing.LabelEncoder()\n",
    "            result[column] = encoders[column].fit_transform(result[column])\n",
    "    return result, encoders\n",
    "\n",
    "encoded_data, _ = number_encode_features(adult_train)\n",
    "sns.heatmap(encoded_data.corr(), square=True)\n",
    "plt.show()"
   ]
  },
  {
   "cell_type": "code",
   "execution_count": 13,
   "metadata": {},
   "outputs": [],
   "source": [
    "del adult_train[\"education\"]\n",
    "del adult_test[\"education\"]"
   ]
  },
  {
   "cell_type": "markdown",
   "metadata": {},
   "source": [
    "#### attribute을 통한 데이터 분석 결과\n",
    "Class를 예측하는 데 큰 기여를 하지 못할 것으로 예측되는 attribute는 'capital-gain', 'capital-loss', 'native-country', 'race'이다. 따라서 이 attribute들을 제거하고 model을 만든 결과와 제거하지 않은 상태에서 model을 만든 결과를 비교해볼 것이다. 이렇게 attribute을 제거한 data set에는 'better'이라는 표시가 붙어있다. "
   ]
  },
  {
   "cell_type": "code",
   "execution_count": 14,
   "metadata": {},
   "outputs": [],
   "source": [
    "adult_train_better = adult_train.copy()\n",
    "adult_test_better = adult_test.copy()\n",
    "del adult_train_better[\"capital-gain\"]\n",
    "del adult_train_better[\"capital-loss\"]\n",
    "del adult_train_better[\"native-country\"]\n",
    "del adult_train_better[\"race\"]\n",
    "del adult_test_better[\"capital-gain\"]\n",
    "del adult_test_better[\"capital-loss\"]\n",
    "del adult_test_better[\"native-country\"]\n",
    "del adult_test_better[\"race\"]"
   ]
  },
  {
   "cell_type": "markdown",
   "metadata": {},
   "source": [
    "### (2) data encoding\n",
    "nominal attribute들의 값을 숫자로 encoding하는 과정이 필요하다. 이때, 사용할 수 있는 방법에는 OneHotEncoder와 OrdinalEncoder가 있다. 여기서 각 값들에 따라 할당되어야 하는 숫자의 크기가 달라져야 하는 attribute은 없기 때문에 OneHotEncoder를 사용했다. "
   ]
  },
  {
   "cell_type": "code",
   "execution_count": 15,
   "metadata": {},
   "outputs": [],
   "source": [
    "from sklearn.preprocessing import  OrdinalEncoder\n",
    "ord_enc = OrdinalEncoder()\n",
    "\n",
    "ord_enc.fit(adult_test[['Class']])\n",
    "adult_test[['Class']] = ord_enc.transform(adult_test[['Class']])\n",
    "one_hot_columns = ['workclass','marital-status','occupation','relationship','race','sex','native-country']\n",
    "adult_test_new = pd.get_dummies(adult_test, columns =  one_hot_columns, drop_first=True)\n",
    "\n",
    "ord_enc.fit(adult_train[['Class']])\n",
    "adult_train[['Class']] = ord_enc.transform(adult_train[['Class']])\n",
    "one_hot_columns = ['workclass','marital-status','occupation','relationship','race','sex','native-country']\n",
    "adult_train_new = pd.get_dummies(adult_train, columns =  one_hot_columns, drop_first=True)\n",
    "\n",
    "del adult_train_new[\"native-country_ Holand-Netherlands\"]"
   ]
  },
  {
   "cell_type": "code",
   "execution_count": 16,
   "metadata": {},
   "outputs": [],
   "source": [
    "ord_enc.fit(adult_train_better[['Class']])\n",
    "adult_train_better[['Class']] = ord_enc.transform(adult_train_better[['Class']]) \n",
    "one_hot_columns2 = ['workclass','marital-status','occupation','relationship', 'sex']\n",
    "adult_train_better_new = pd.get_dummies(adult_train_better, columns =  one_hot_columns2, drop_first=True)\n",
    "\n",
    "ord_enc.fit(adult_test_better[['Class']])\n",
    "adult_test_better[['Class']] = ord_enc.transform(adult_test_better[['Class']]) \n",
    "one_hot_columns2 = ['workclass','marital-status','occupation','relationship', 'sex']\n",
    "adult_test_better_new = pd.get_dummies(adult_test_better, columns =  one_hot_columns2, drop_first=True)"
   ]
  },
  {
   "cell_type": "markdown",
   "metadata": {},
   "source": [
    "### (3) Data set 나누기\n",
    "여기서는 data set을 이미 training set과 test set으로 나눠줬기 때문에 training set만 validation set과 training set으로 나누면 된다. 여기서는 validation set과 training set 사이의 크기 비율을 1:3으로 정했다.   "
   ]
  },
  {
   "cell_type": "code",
   "execution_count": 17,
   "metadata": {},
   "outputs": [],
   "source": [
    "adult_train = adult_train_new.sample(frac=0.75)\n",
    "adult_valid = adult_train_new.drop(index = adult_train.index)\n",
    "adult_train_x1 = adult_train.loc[:, 'age':'hours-per-week']\n",
    "adult_train_x2 = adult_train.loc[:, 'workclass_ Local-gov': 'native-country_ Yugoslavia']\n",
    "adult_train_x = pd.concat([adult_train_x1, adult_train_x2], axis = 1)\n",
    "adult_train_y = adult_train['Class']\n",
    "adult_valid_x1 = adult_valid.loc[:, 'age':'hours-per-week']\n",
    "adult_valid_x2 = adult_valid.loc[:, 'workclass_ Local-gov': 'native-country_ Yugoslavia']\n",
    "adult_valid_x = pd.concat([adult_valid_x1, adult_valid_x2], axis = 1)\n",
    "adult_valid_y = adult_valid['Class']"
   ]
  },
  {
   "cell_type": "code",
   "execution_count": 18,
   "metadata": {},
   "outputs": [],
   "source": [
    "adult_test_x1 = adult_test_new.loc[:, 'age':'hours-per-week']\n",
    "adult_test_x2 = adult_test_new.loc[:, 'workclass_ Local-gov': 'native-country_ Yugoslavia']\n",
    "adult_test_x = pd.concat([adult_test_x1, adult_test_x2], axis = 1)\n",
    "adult_test_y = adult_test_new['Class']"
   ]
  },
  {
   "cell_type": "code",
   "execution_count": 19,
   "metadata": {},
   "outputs": [],
   "source": [
    "adult_train_better = adult_train_better_new.sample(frac=0.75)\n",
    "adult_valid_better = adult_train_better_new.drop(index = adult_train_better.index)\n",
    "adult_train_better_x1 = adult_train_better.loc[:, 'age':'hours-per-week']\n",
    "adult_train_better_x2 = adult_train_better.loc[:, 'workclass_ Local-gov': 'sex_ Male']\n",
    "adult_train_better_x = pd.concat([adult_train_better_x1, adult_train_better_x2], axis = 1)\n",
    "adult_train_better_y = adult_train_better['Class']\n",
    "adult_valid_better_x1 = adult_valid_better.loc[:, 'age':'hours-per-week']\n",
    "adult_valid_better_x2 = adult_valid_better.loc[:, 'workclass_ Local-gov': 'sex_ Male']\n",
    "adult_valid_better_x = pd.concat([adult_valid_better_x1, adult_valid_better_x2], axis = 1)\n",
    "adult_valid_better_y = adult_valid_better['Class']"
   ]
  },
  {
   "cell_type": "code",
   "execution_count": 20,
   "metadata": {},
   "outputs": [],
   "source": [
    "adult_test_better_x1 = adult_test_better_new.loc[:, 'age':'hours-per-week']\n",
    "adult_test_better_x2 = adult_test_better_new.loc[:, 'workclass_ Local-gov': 'sex_ Male']\n",
    "adult_test_better_x = pd.concat([adult_test_better_x1, adult_test_better_x2], axis = 1)\n",
    "adult_test_better_y = adult_test_better_new['Class']"
   ]
  },
  {
   "cell_type": "markdown",
   "metadata": {},
   "source": [
    "### (4) Logistic Regression\n",
    "- 먼저, accuracy는 전체 data 중 제대로 분류된 data의 비율로, 밑의 confusion matrix를 통해 확인할 수 있듯이 (5518+480)/7540 = 0.795, 즉 79.5%로 나타난다. classification report를 보면, precision, recall, f1-score의 값들이 나와있다. 0이라고 예측한 데이터의 81%가 실제로 0이었고, 1이라고 예측한 데이터의 69%가 실제로 1이었음을 알 수 있다. 또한 실제 0인 데이터 중 96%가 0으로 판별되었고, 실제 1인 데이터 중 27%만이 1로 판별되었음을 알 수 있다. 이 결과의 특징은 0에 관련된 precision, recall 값이 1에 관련된 그것들보다 훨씬 높다는 것이다. \n",
    "- 한편, train set에 대한 성능과 validation set에 대한 성능의 차이가 거의 없기 때문에 overfitted 문제는 나타나지 않고 있다는 것을 알 수 있다. ROC curve를 보면 false positive rate가 커질수록 true positive rate가 작아지는 현상을 보이는데, 이는 임계값을 0에서 1로 증가시키면서 나타나는 현상이다. 즉, 임계값이 높아짐에 따라 정확도, 민감도의 수치가 떨어지므로 Class 1을 분류해내는 방법이 정교하지 않다는 것을 알 수 있다. AUC 값이 0.574에 불과하기 때문에 이 classifier는 성능이 꽤 좋지 않은 편이라고 할 수 있다. \n",
    "- 더 좋은 결과를 도출할 것이라고 예상한 data set인 better data set에 대해서는 오히려 훨씬 낮은 성능을 보였다.\n",
    "- 결과적으로 test set에 대한 logistic regression의 성능은 79.3%로 나타났다. "
   ]
  },
  {
   "cell_type": "code",
   "execution_count": 21,
   "metadata": {},
   "outputs": [
    {
     "data": {
      "text/plain": [
       "0.7907161803713528"
      ]
     },
     "execution_count": 21,
     "metadata": {},
     "output_type": "execute_result"
    }
   ],
   "source": [
    "from sklearn.linear_model import LogisticRegression\n",
    "from sklearn import metrics\n",
    "\n",
    "logreg1 = LogisticRegression(solver = 'liblinear')\n",
    "logreg1.fit(adult_train_x, adult_train_y)\n",
    "y_pred = logreg1.predict(adult_valid_x)\n",
    "logreg1.score(adult_valid_x, adult_valid_y)"
   ]
  },
  {
   "cell_type": "code",
   "execution_count": 22,
   "metadata": {},
   "outputs": [
    {
     "data": {
      "text/plain": [
       "0.7907346830518964"
      ]
     },
     "execution_count": 22,
     "metadata": {},
     "output_type": "execute_result"
    }
   ],
   "source": [
    "logreg1.score(adult_train_x, adult_train_y)"
   ]
  },
  {
   "cell_type": "code",
   "execution_count": 23,
   "metadata": {},
   "outputs": [
    {
     "name": "stdout",
     "output_type": "stream",
     "text": [
      "[[5453  227]\n",
      " [1351  509]]\n"
     ]
    }
   ],
   "source": [
    "from sklearn.metrics import confusion_matrix\n",
    "confusion_matrix = confusion_matrix(adult_valid_y, y_pred)\n",
    "print(confusion_matrix)"
   ]
  },
  {
   "cell_type": "code",
   "execution_count": 24,
   "metadata": {},
   "outputs": [
    {
     "name": "stdout",
     "output_type": "stream",
     "text": [
      "              precision    recall  f1-score   support\n",
      "\n",
      "         0.0       0.80      0.96      0.87      5680\n",
      "         1.0       0.69      0.27      0.39      1860\n",
      "\n",
      "   micro avg       0.79      0.79      0.79      7540\n",
      "   macro avg       0.75      0.62      0.63      7540\n",
      "weighted avg       0.77      0.79      0.75      7540\n",
      "\n"
     ]
    }
   ],
   "source": [
    "from sklearn.metrics import classification_report\n",
    "print(classification_report(adult_valid_y, y_pred))"
   ]
  },
  {
   "cell_type": "code",
   "execution_count": 25,
   "metadata": {},
   "outputs": [
    {
     "name": "stderr",
     "output_type": "stream",
     "text": [
      "No handles with labels found to put in legend.\n"
     ]
    },
    {
     "data": {
      "image/png": "[encoded data removed]",
      "text/plain": [
       "<Figure size 432x288 with 1 Axes>"
      ]
     },
     "metadata": {
      "needs_background": "light"
     },
     "output_type": "display_data"
    }
   ],
   "source": [
    "from sklearn.metrics import roc_auc_score, auc\n",
    "from sklearn.metrics import roc_curve\n",
    "def plot_roc(what):\n",
    "    logit_roc_auc = roc_auc_score(adult_valid_y, what.predict(adult_valid_x))\n",
    "    fpr, tpr, thresholds = roc_curve(adult_valid_y, what.predict_proba(adult_valid_x)[:,1])\n",
    "    plt.figure()\n",
    "    plt.plot(fpr, tpr)\n",
    "    plt.plot([0, 1], [0, 1],'r--')\n",
    "    plt.xlim([0.0, 1.0])\n",
    "    plt.ylim([0.0, 1.05])\n",
    "    plt.xlabel('False Positive Rate')\n",
    "    plt.ylabel('True Positive Rate')\n",
    "    plt.title('ROC Curve. AUC: {}'.format(auc(fpr, tpr)))\n",
    "    plt.legend(loc=\"lower right\")\n",
    "    plt.savefig('Log_ROC')\n",
    "    plt.show()\n",
    "plot_roc(logreg1)"
   ]
  },
  {
   "cell_type": "code",
   "execution_count": 26,
   "metadata": {},
   "outputs": [
    {
     "data": {
      "text/plain": [
       "0.7926958831341302"
      ]
     },
     "execution_count": 26,
     "metadata": {},
     "output_type": "execute_result"
    }
   ],
   "source": [
    "logreg2 = LogisticRegression(solver = 'liblinear')\n",
    "logreg2.fit(adult_train_x, adult_train_y)\n",
    "y_pred = logreg2.predict(adult_test_x)\n",
    "logreg2.score(adult_test_x, adult_test_y)"
   ]
  },
  {
   "cell_type": "code",
   "execution_count": 27,
   "metadata": {},
   "outputs": [
    {
     "data": {
      "text/plain": [
       "0.7493368700265252"
      ]
     },
     "execution_count": 27,
     "metadata": {},
     "output_type": "execute_result"
    }
   ],
   "source": [
    "logreg3 = LogisticRegression(solver = 'liblinear')\n",
    "logreg3.fit(adult_train_better_x, adult_train_better_y)\n",
    "y_pred = logreg3.predict(adult_valid_better_x)\n",
    "logreg3.score(adult_valid_better_x, adult_valid_better_y)"
   ]
  },
  {
   "cell_type": "markdown",
   "metadata": {},
   "source": [
    "### (5) Decision Tree\n",
    "아래의 결과를 보면, validation set에 대한 accuracy는 81.1%인데 반해, train set에 대한 accuracy는 99.9%임을 알 수 있다. 즉, 첫 번째 decision tree classifier는 overfitted 문제가 있음을 알 수 있다. "
   ]
  },
  {
   "cell_type": "code",
   "execution_count": 28,
   "metadata": {},
   "outputs": [
    {
     "data": {
      "text/plain": [
       "0.8039787798408488"
      ]
     },
     "execution_count": 28,
     "metadata": {},
     "output_type": "execute_result"
    }
   ],
   "source": [
    "from sklearn.tree import DecisionTreeClassifier\n",
    "model = DecisionTreeClassifier()\n",
    "model.fit(adult_train_x, adult_train_y)\n",
    "model.score(adult_valid_x, adult_valid_y)"
   ]
  },
  {
   "cell_type": "code",
   "execution_count": 29,
   "metadata": {},
   "outputs": [
    {
     "data": {
      "text/plain": [
       "1.0"
      ]
     },
     "execution_count": 29,
     "metadata": {},
     "output_type": "execute_result"
    }
   ],
   "source": [
    "model.score(adult_train_x, adult_train_y)"
   ]
  },
  {
   "cell_type": "code",
   "execution_count": 30,
   "metadata": {},
   "outputs": [
    {
     "name": "stdout",
     "output_type": "stream",
     "text": [
      "              precision    recall  f1-score   support\n",
      "\n",
      "         0.0       0.87      0.87      0.87      5680\n",
      "         1.0       0.60      0.61      0.61      1860\n",
      "\n",
      "   micro avg       0.80      0.80      0.80      7540\n",
      "   macro avg       0.74      0.74      0.74      7540\n",
      "weighted avg       0.80      0.80      0.80      7540\n",
      "\n"
     ]
    }
   ],
   "source": [
    "y_pred = model.predict(adult_valid_x)\n",
    "print(classification_report(adult_valid_y, y_pred))"
   ]
  },
  {
   "cell_type": "code",
   "execution_count": 31,
   "metadata": {},
   "outputs": [
    {
     "name": "stderr",
     "output_type": "stream",
     "text": [
      "No handles with labels found to put in legend.\n"
     ]
    },
    {
     "data": {
      "image/png": "[encoded data removed]",
      "text/plain": [
       "<Figure size 432x288 with 1 Axes>"
      ]
     },
     "metadata": {
      "needs_background": "light"
     },
     "output_type": "display_data"
    }
   ],
   "source": [
    "logit_roc_auc = roc_auc_score(adult_valid_y, model.predict(adult_valid_x))\n",
    "fpr, tpr, thresholds = roc_curve(adult_valid_y, model.predict_proba(adult_valid_x)[:,1])\n",
    "plt.figure()\n",
    "plt.plot(fpr, tpr)\n",
    "plt.plot([0, 1], [0, 1],'r--')\n",
    "plt.xlim([0.0, 1.0])\n",
    "plt.ylim([0.0, 1.05])\n",
    "plt.xlabel('False Positive Rate')\n",
    "plt.ylabel('True Positive Rate')\n",
    "plt.title('ROC Curve. AUC: {}'.format(auc(fpr, tpr)))\n",
    "plt.legend(loc=\"lower right\")\n",
    "plt.savefig('Log_ROC')\n",
    "plt.show()"
   ]
  },
  {
   "cell_type": "markdown",
   "metadata": {},
   "source": [
    "#### overfitting 피하기 위한 방법 (1) pre-pruning - 최대 깊이 설정\n",
    "max_depth=3일 때 이후로는 더 커져도 같은 accuracy(84.2%)를 유지하는 것으로 보아, depth가 3 이상으로 커지면 train set을 학습하는 데만 사용되는 것으로 보인다. model3(max_depth=3)을 이용해 ROC 그래프를 그려보면, max_depth를 설정하기 전보다 약 0.1 정도 AUC 넓이가 커지는 것을 확인할 수 있으므로 성능이 훨씬 좋아진다는 것을 알 수 있다. "
   ]
  },
  {
   "cell_type": "code",
   "execution_count": 32,
   "metadata": {},
   "outputs": [
    {
     "data": {
      "text/plain": [
       "0.8242705570291777"
      ]
     },
     "execution_count": 32,
     "metadata": {},
     "output_type": "execute_result"
    }
   ],
   "source": [
    "model2 = DecisionTreeClassifier(max_depth = 2)\n",
    "model2.fit(adult_train_x, adult_train_y)\n",
    "model2.score(adult_valid_x, adult_valid_y)"
   ]
  },
  {
   "cell_type": "code",
   "execution_count": 33,
   "metadata": {},
   "outputs": [
    {
     "data": {
      "text/plain": [
       "0.839920424403183"
      ]
     },
     "execution_count": 33,
     "metadata": {},
     "output_type": "execute_result"
    }
   ],
   "source": [
    "model3 = DecisionTreeClassifier(max_depth = 3)\n",
    "model3.fit(adult_train_x, adult_train_y)\n",
    "model3.score(adult_valid_x, adult_valid_y)"
   ]
  },
  {
   "cell_type": "code",
   "execution_count": 34,
   "metadata": {},
   "outputs": [
    {
     "data": {
      "text/plain": [
       "0.843501326259947"
      ]
     },
     "execution_count": 34,
     "metadata": {},
     "output_type": "execute_result"
    }
   ],
   "source": [
    "model4 = DecisionTreeClassifier(max_depth = 4)\n",
    "model4.fit(adult_train_x, adult_train_y)\n",
    "model4.score(adult_valid_x, adult_valid_y)"
   ]
  },
  {
   "cell_type": "code",
   "execution_count": 35,
   "metadata": {},
   "outputs": [
    {
     "name": "stderr",
     "output_type": "stream",
     "text": [
      "No handles with labels found to put in legend.\n"
     ]
    },
    {
     "data": {
      "image/png": "[encoded data removed]",
      "text/plain": [
       "<Figure size 432x288 with 1 Axes>"
      ]
     },
     "metadata": {
      "needs_background": "light"
     },
     "output_type": "display_data"
    }
   ],
   "source": [
    "logit_roc_auc = roc_auc_score(adult_valid_y, model3.predict(adult_valid_x))\n",
    "fpr, tpr, thresholds = roc_curve(adult_valid_y, model3.predict_proba(adult_valid_x)[:,1])\n",
    "plt.figure()\n",
    "plt.plot(fpr, tpr)\n",
    "plt.plot([0, 1], [0, 1],'r--')\n",
    "plt.xlim([0.0, 1.0])\n",
    "plt.ylim([0.0, 1.05])\n",
    "plt.xlabel('False Positive Rate')\n",
    "plt.ylabel('True Positive Rate')\n",
    "plt.title('ROC Curve. AUC: {}'.format(auc(fpr, tpr)))\n",
    "plt.legend(loc=\"lower right\")\n",
    "plt.savefig('Log_ROC')\n",
    "plt.show()"
   ]
  },
  {
   "cell_type": "code",
   "execution_count": 36,
   "metadata": {},
   "outputs": [],
   "source": [
    "from sklearn.tree import export_graphviz\n",
    "from sklearn import tree\n",
    "import graphviz\n",
    "dot_data = tree.export_graphviz(model3, out_file=\"tree.dot\", filled = True)\n",
    "graph = graphviz.Source(dot_data)\n",
    "with open(\"tree.dot\") as f:\n",
    "    dot_graph = f.read()"
   ]
  },
  {
   "cell_type": "markdown",
   "metadata": {},
   "source": [
    "#### overfitting 피하기 위한 방법 (2) pre-pruning - leaf node value의 최소 개수 설정\n",
    "leaf node의 값의 최소 개수를 지정함으로써 overfitting을 방지하는 방법도 있다. min_samples_leaf=7로 했을 때 가장 높은 성능을 보이므로 min_samples_leaf = 7로 설정한다.  "
   ]
  },
  {
   "cell_type": "code",
   "execution_count": 37,
   "metadata": {},
   "outputs": [
    {
     "data": {
      "text/plain": [
       "0.8315649867374005"
      ]
     },
     "execution_count": 37,
     "metadata": {},
     "output_type": "execute_result"
    }
   ],
   "source": [
    "model6 = DecisionTreeClassifier(min_samples_leaf=6)\n",
    "model6.fit(adult_train_x, adult_train_y)\n",
    "model6.score(adult_valid_x, adult_valid_y)"
   ]
  },
  {
   "cell_type": "code",
   "execution_count": 38,
   "metadata": {},
   "outputs": [
    {
     "data": {
      "text/plain": [
       "0.8327586206896552"
      ]
     },
     "execution_count": 38,
     "metadata": {},
     "output_type": "execute_result"
    }
   ],
   "source": [
    "model7 = DecisionTreeClassifier(min_samples_leaf=7)\n",
    "model7.fit(adult_train_x, adult_train_y)\n",
    "model7.score(adult_valid_x, adult_valid_y)"
   ]
  },
  {
   "cell_type": "code",
   "execution_count": 39,
   "metadata": {},
   "outputs": [
    {
     "data": {
      "text/plain": [
       "0.8323607427055703"
      ]
     },
     "execution_count": 39,
     "metadata": {},
     "output_type": "execute_result"
    }
   ],
   "source": [
    "model8 = DecisionTreeClassifier(min_samples_leaf=8)\n",
    "model8.fit(adult_train_x, adult_train_y)\n",
    "model8.score(adult_valid_x, adult_valid_y)"
   ]
  },
  {
   "cell_type": "markdown",
   "metadata": {},
   "source": [
    "#### validation set을 통해 얻은 model 이용해서 test set에 대해 시험\n",
    "validation set을 통해서 overfitting을 완화시키는 factor들을 찾을 수 있었다. min_samples_leaf = 7, max_depth = 3으로 했을 때 validation set에 대해 가장 좋은 성능을 보이는 것으로 나왔다. 따라서 이를 통해 test set에 대한 성능을 확인해볼 수 있다. \n",
    "test set에 대해 성능을 확인해본 결과, 83.9%의 accuracy를 보였다. 따라서 아무 조건 없이 train set에 대해 이 classifier를 적용한 것보다 더 좋은 결과를 보였다고 할 수 있다. "
   ]
  },
  {
   "cell_type": "code",
   "execution_count": 40,
   "metadata": {},
   "outputs": [
    {
     "data": {
      "text/plain": [
       "0.8392430278884462"
      ]
     },
     "execution_count": 40,
     "metadata": {},
     "output_type": "execute_result"
    }
   ],
   "source": [
    "model10 = DecisionTreeClassifier(min_samples_leaf=7, max_depth = 3)\n",
    "model10.fit(adult_train_x, adult_train_y)\n",
    "model10.score(adult_test_x, adult_test_y)"
   ]
  },
  {
   "cell_type": "code",
   "execution_count": 41,
   "metadata": {},
   "outputs": [
    {
     "name": "stderr",
     "output_type": "stream",
     "text": [
      "No handles with labels found to put in legend.\n"
     ]
    },
    {
     "data": {
      "image/png": "[encoded data removed]",
      "text/plain": [
       "<Figure size 432x288 with 1 Axes>"
      ]
     },
     "metadata": {
      "needs_background": "light"
     },
     "output_type": "display_data"
    }
   ],
   "source": [
    "logit_roc_auc = roc_auc_score(adult_test_y, model10.predict(adult_test_x))\n",
    "fpr, tpr, thresholds = roc_curve(adult_test_y, model10.predict_proba(adult_test_x)[:,1])\n",
    "plt.figure()\n",
    "plt.plot(fpr, tpr)\n",
    "plt.plot([0, 1], [0, 1],'r--')\n",
    "plt.xlim([0.0, 1.0])\n",
    "plt.ylim([0.0, 1.05])\n",
    "plt.xlabel('False Positive Rate')\n",
    "plt.ylabel('True Positive Rate')\n",
    "plt.title('ROC Curve. AUC: {}'.format(auc(fpr, tpr)))\n",
    "plt.legend(loc=\"lower right\")\n",
    "plt.savefig('Log_ROC')\n",
    "plt.show()"
   ]
  },
  {
   "cell_type": "markdown",
   "metadata": {},
   "source": [
    "### (5) Naive Bayesian\n",
    "Naive Bayesian classifier를 이용했다. Naive Bayesian classifier는 validation set에 대해서는 76.4%, test set에 대해서는 76.9%의 accuracy를 보였다. 이는 위에서 이용했던 Logistic Regression이나 Decision Tree classifier에 비해서는 낮은 accuracy이다. 이러한 약점이 나타나는 이유는 이 classifier가 모든 attribute들이 독립적이라는 가정 하에 확률을 계산하기 때문이다. 즉, 실제로는 독립적이지 않은 attribute들이라면 성능이 떨어질 수밖에 없는 것이다. "
   ]
  },
  {
   "cell_type": "code",
   "execution_count": 42,
   "metadata": {},
   "outputs": [
    {
     "data": {
      "text/plain": [
       "0.76684350132626"
      ]
     },
     "execution_count": 42,
     "metadata": {},
     "output_type": "execute_result"
    }
   ],
   "source": [
    "from sklearn.naive_bayes import BernoulliNB\n",
    "nb = BernoulliNB()\n",
    "clf_nb = nb.fit(adult_train_x,adult_train_y)\n",
    "clf_nb.score(adult_valid_x,adult_valid_y)"
   ]
  },
  {
   "cell_type": "code",
   "execution_count": 43,
   "metadata": {},
   "outputs": [
    {
     "data": {
      "text/plain": [
       "0.7700531208499336"
      ]
     },
     "execution_count": 43,
     "metadata": {},
     "output_type": "execute_result"
    }
   ],
   "source": [
    "clf_nb2 = nb.fit(adult_train_x,adult_train_y)\n",
    "clf_nb2.score(adult_test_x,adult_test_y)"
   ]
  },
  {
   "cell_type": "code",
   "execution_count": 44,
   "metadata": {},
   "outputs": [
    {
     "name": "stderr",
     "output_type": "stream",
     "text": [
      "No handles with labels found to put in legend.\n"
     ]
    },
    {
     "data": {
      "image/png": "[encoded data removed]",
      "text/plain": [
       "<Figure size 432x288 with 1 Axes>"
      ]
     },
     "metadata": {
      "needs_background": "light"
     },
     "output_type": "display_data"
    }
   ],
   "source": [
    "logit_roc_auc = roc_auc_score(adult_test_y, clf_nb2.predict(adult_test_x))\n",
    "fpr, tpr, thresholds = roc_curve(adult_test_y, clf_nb2.predict_proba(adult_test_x)[:,1])\n",
    "plt.figure()\n",
    "plt.plot(fpr, tpr)\n",
    "plt.plot([0, 1], [0, 1],'r--')\n",
    "plt.xlim([0.0, 1.0])\n",
    "plt.ylim([0.0, 1.05])\n",
    "plt.xlabel('False Positive Rate')\n",
    "plt.ylabel('True Positive Rate')\n",
    "plt.title('ROC Curve. AUC: {}'.format(auc(fpr, tpr)))\n",
    "plt.legend(loc=\"lower right\")\n",
    "plt.savefig('Log_ROC')\n",
    "plt.show()"
   ]
  },
  {
   "cell_type": "markdown",
   "metadata": {},
   "source": [
    "위에서 언급한 단점을 확인하기 위해 아래는 여러 attribute들('race', 'native-country', 'capital-gain', 'capital-loss')을 삭제한 dataset에 대해 학습시키고 성능을 평가해본 것이다. 그러나 성능이 크게 달라지지 않는 것을 확인할 수 있는데 이는 삭제한 것 외에 다른 attribute들이 서로 연관되어있기 때문인 것으로 보인다. "
   ]
  },
  {
   "cell_type": "code",
   "execution_count": 45,
   "metadata": {},
   "outputs": [
    {
     "data": {
      "text/plain": [
       "0.7576923076923077"
      ]
     },
     "execution_count": 45,
     "metadata": {},
     "output_type": "execute_result"
    }
   ],
   "source": [
    "clf_nb3 = nb.fit(adult_train_better_x,adult_train_better_y)\n",
    "clf_nb3.score(adult_valid_better_x,adult_valid_better_y)"
   ]
  },
  {
   "cell_type": "code",
   "execution_count": 46,
   "metadata": {},
   "outputs": [
    {
     "data": {
      "text/plain": [
       "0.7601593625498008"
      ]
     },
     "execution_count": 46,
     "metadata": {},
     "output_type": "execute_result"
    }
   ],
   "source": [
    "clf_nb4 = nb.fit(adult_train_better_x,adult_train_better_y)\n",
    "clf_nb4.score(adult_test_better_x,adult_test_better_y)"
   ]
  },
  {
   "cell_type": "code",
   "execution_count": 47,
   "metadata": {},
   "outputs": [
    {
     "name": "stderr",
     "output_type": "stream",
     "text": [
      "No handles with labels found to put in legend.\n"
     ]
    },
    {
     "data": {
      "image/png": "[encoded data removed]",
      "text/plain": [
       "<Figure size 432x288 with 1 Axes>"
      ]
     },
     "metadata": {
      "needs_background": "light"
     },
     "output_type": "display_data"
    }
   ],
   "source": [
    "logit_roc_auc = roc_auc_score(adult_test_better_y, clf_nb4.predict(adult_test_better_x))\n",
    "fpr, tpr, thresholds = roc_curve(adult_test_better_y, clf_nb4.predict_proba(adult_test_better_x)[:,1])\n",
    "plt.figure()\n",
    "plt.plot(fpr, tpr)\n",
    "plt.plot([0, 1], [0, 1],'r--')\n",
    "plt.xlim([0.0, 1.0])\n",
    "plt.ylim([0.0, 1.05])\n",
    "plt.xlabel('False Positive Rate')\n",
    "plt.ylabel('True Positive Rate')\n",
    "plt.title('ROC Curve. AUC: {}'.format(auc(fpr, tpr)))\n",
    "plt.legend(loc=\"lower right\")\n",
    "plt.savefig('Log_ROC')\n",
    "plt.show()"
   ]
  },
  {
   "cell_type": "markdown",
   "metadata": {},
   "source": [
    "### (6) KNN\n",
    "kNN에서는 k개의 nearest neighbors에서 바로 그 k를 정하는 것이 관건이다. k가 너무 작으면 그 instance(neighbors)들이 잘못된 것일 가능성을 지울 수 없다. 따라서 여러 개를 골라 vote해야 하는데, 더 나은 것을 골라야 하기 때문에 k는 홀수여야 한다. 이에 따라 k값에 따라 train score과 test score를 비교하는 그래프를 그릴 수 있다. "
   ]
  },
  {
   "cell_type": "code",
   "execution_count": 48,
   "metadata": {},
   "outputs": [
    {
     "name": "stdout",
     "output_type": "stream",
     "text": [
      "KNN : Training score - 1.0 -- Test score - 0.7236074270557029\n",
      "KNN : Training score - 0.860312969675537 -- Test score - 0.7510610079575597\n",
      "KNN : Training score - 0.8271151975952612 -- Test score - 0.7677718832891247\n",
      "KNN : Training score - 0.8126602422420652 -- Test score - 0.7748010610079575\n",
      "KNN : Training score - 0.8083281761117497 -- Test score - 0.7838196286472149\n",
      "KNN : Training score - 0.8055874812129785 -- Test score - 0.7856763925729443\n",
      "KNN : Training score - 0.8022279197241623 -- Test score - 0.7891246684350133\n",
      "KNN : Training score - 0.7998850676332774 -- Test score - 0.7904509283819628\n",
      "KNN : Training score - 0.7993988153125277 -- Test score - 0.7896551724137931\n",
      "KNN : Training score - 0.7981610821324374 -- Test score - 0.7911140583554377\n"
     ]
    }
   ],
   "source": [
    "from sklearn.neighbors import KNeighborsClassifier\n",
    "knn_scores = []\n",
    "train_scores = []\n",
    "test_scores = []\n",
    "\n",
    "for n in range(1,20,2):\n",
    "    knn = KNeighborsClassifier(n_neighbors=n)\n",
    "    knn.fit(adult_train_x,adult_train_y)\n",
    "    train_score = knn.score(adult_train_x,adult_train_y)\n",
    "    test_score = knn.score(adult_valid_x,adult_valid_y)\n",
    "    train_scores.append(train_score)\n",
    "    test_scores.append(test_score)\n",
    "    print(f'KNN : Training score - {train_score} -- Test score - {test_score}')\n",
    "    knn_scores.append({'algorithm':'KNN', 'training_score':train_score})"
   ]
  },
  {
   "cell_type": "markdown",
   "metadata": {},
   "source": [
    "위의 결과를 통해, k=15일 때 test score가 최대값을 가진다는 것을 알 수 있다. 아래에 이를 적용해본 결과, 79%의 accuracy를 보인다는 것을 확인할 수 있다. "
   ]
  },
  {
   "cell_type": "code",
   "execution_count": 49,
   "metadata": {},
   "outputs": [
    {
     "data": {
      "text/plain": [
       "0.7921646746347941"
      ]
     },
     "execution_count": 49,
     "metadata": {},
     "output_type": "execute_result"
    }
   ],
   "source": [
    "knn = KNeighborsClassifier(n_neighbors=15)\n",
    "knn.fit(adult_train_x,adult_train_y)\n",
    "knn.score(adult_test_x,adult_test_y)"
   ]
  },
  {
   "cell_type": "code",
   "execution_count": 50,
   "metadata": {},
   "outputs": [
    {
     "name": "stderr",
     "output_type": "stream",
     "text": [
      "No handles with labels found to put in legend.\n"
     ]
    },
    {
     "data": {
      "image/png": "[encoded data removed]",
      "text/plain": [
       "<Figure size 432x288 with 1 Axes>"
      ]
     },
     "metadata": {
      "needs_background": "light"
     },
     "output_type": "display_data"
    }
   ],
   "source": [
    "plot_roc(knn)"
   ]
  },
  {
   "cell_type": "markdown",
   "metadata": {},
   "source": [
    "### (7) Random Forest\n",
    "Decision tree가 entropy등을 통해서 attribute 중 가장 적절한 것을 골라서 순서대로 node로 정하는 것이라면, random forest는 attribute를 고를 때 randomness를 이용하는 것이다. 이렇게 생긴 여러 개 모델 중 제일 좋은 것을 고르는 방법이 random forest이다. "
   ]
  },
  {
   "cell_type": "code",
   "execution_count": 51,
   "metadata": {},
   "outputs": [
    {
     "name": "stderr",
     "output_type": "stream",
     "text": [
      "C:\\anaconda\\lib\\site-packages\\sklearn\\ensemble\\forest.py:246: FutureWarning: The default value of n_estimators will change from 10 in version 0.20 to 100 in 0.22.\n",
      "  \"10 in version 0.20 to 100 in 0.22.\", FutureWarning)\n"
     ]
    },
    {
     "data": {
      "text/plain": [
       "0.843236074270557"
      ]
     },
     "execution_count": 51,
     "metadata": {},
     "output_type": "execute_result"
    }
   ],
   "source": [
    "from sklearn.ensemble import RandomForestClassifier\n",
    "rndTree1 = RandomForestClassifier()\n",
    "rndTree1.fit(adult_train_x,adult_train_y)\n",
    "rndTree1.score(adult_valid_x,adult_valid_y)"
   ]
  },
  {
   "cell_type": "code",
   "execution_count": 52,
   "metadata": {},
   "outputs": [
    {
     "name": "stderr",
     "output_type": "stream",
     "text": [
      "C:\\anaconda\\lib\\site-packages\\sklearn\\ensemble\\forest.py:246: FutureWarning: The default value of n_estimators will change from 10 in version 0.20 to 100 in 0.22.\n",
      "  \"10 in version 0.20 to 100 in 0.22.\", FutureWarning)\n"
     ]
    },
    {
     "data": {
      "text/plain": [
       "0.8443559096945551"
      ]
     },
     "execution_count": 52,
     "metadata": {},
     "output_type": "execute_result"
    }
   ],
   "source": [
    "rndTree2 = RandomForestClassifier()\n",
    "rndTree2.fit(adult_train_x,adult_train_y)\n",
    "rndTree2.score(adult_test_x,adult_test_y)"
   ]
  },
  {
   "cell_type": "markdown",
   "metadata": {},
   "source": [
    "더 나은 성능을 내는 model을 만들기 위해 max_depth를 지정해봤는데 원래 default model의 성능과 크게 다른 점이 없었다. 즉, 특별한 설정 없어도 그렇게 깊은 node를 만들지 않아서 training set에 overfitted 되지는 않는다는 것을 알 수 있다. "
   ]
  },
  {
   "cell_type": "code",
   "execution_count": 53,
   "metadata": {},
   "outputs": [
    {
     "name": "stderr",
     "output_type": "stream",
     "text": [
      "C:\\anaconda\\lib\\site-packages\\sklearn\\ensemble\\forest.py:246: FutureWarning: The default value of n_estimators will change from 10 in version 0.20 to 100 in 0.22.\n",
      "  \"10 in version 0.20 to 100 in 0.22.\", FutureWarning)\n"
     ]
    },
    {
     "data": {
      "text/plain": [
       "0.8392572944297082"
      ]
     },
     "execution_count": 53,
     "metadata": {},
     "output_type": "execute_result"
    }
   ],
   "source": [
    "rndTree3 = RandomForestClassifier(max_depth=6)\n",
    "rndTree3.fit(adult_train_x,adult_train_y)\n",
    "rndTree3.score(adult_valid_x,adult_valid_y)"
   ]
  },
  {
   "cell_type": "code",
   "execution_count": 54,
   "metadata": {},
   "outputs": [
    {
     "name": "stderr",
     "output_type": "stream",
     "text": [
      "C:\\anaconda\\lib\\site-packages\\sklearn\\ensemble\\forest.py:246: FutureWarning: The default value of n_estimators will change from 10 in version 0.20 to 100 in 0.22.\n",
      "  \"10 in version 0.20 to 100 in 0.22.\", FutureWarning)\n"
     ]
    },
    {
     "data": {
      "text/plain": [
       "0.8322045152722444"
      ]
     },
     "execution_count": 54,
     "metadata": {},
     "output_type": "execute_result"
    }
   ],
   "source": [
    "rndTree4 = RandomForestClassifier(max_depth=6)\n",
    "rndTree4.fit(adult_train_x,adult_train_y)\n",
    "rndTree4.score(adult_test_x,adult_test_y)"
   ]
  },
  {
   "cell_type": "code",
   "execution_count": 55,
   "metadata": {},
   "outputs": [
    {
     "name": "stderr",
     "output_type": "stream",
     "text": [
      "No handles with labels found to put in legend.\n"
     ]
    },
    {
     "data": {
      "image/png": "[encoded data removed]",
      "text/plain": [
       "<Figure size 432x288 with 1 Axes>"
      ]
     },
     "metadata": {
      "needs_background": "light"
     },
     "output_type": "display_data"
    }
   ],
   "source": [
    "plot_roc(rndTree2)"
   ]
  },
  {
   "cell_type": "markdown",
   "metadata": {},
   "source": [
    "### (8) Sequential Model\n",
    "1) compile\n",
    "- compile하기 위해 optimizer과 loss에 대해서는 지정을 해줘야 한다. \n",
    "- optimizer - sgd: stochastic gradient descent optimizer\n",
    "    -> lr: learning rate, momentum: parameter that accelerateds SGD, decay: learning rate decay over each update\n",
    "- loss - mean_squared_error, mean_absolute_error, squared_hinge 등 \n",
    "- metrics: training과 testing 중에 model에 의해 평가되는 list of metrics. 주로, metrics = ['accuracy'] 사용함\n",
    "\n",
    "2) fit\n",
    "- batch_size: gradient update마다의 sample 수\n",
    "- epochs: model을 학습시키는 epochs 수(epoch: iteration over the entire x and y data provided)\n",
    "\n",
    "3) evaluated\n",
    "- batch_size: evaluation 단계마다의 sample 수"
   ]
  },
  {
   "cell_type": "markdown",
   "metadata": {},
   "source": [
    "기본적인 조건으로 Sequential model을 만들었을 때의 성능은 약 74% 정도로 나타났다."
   ]
  },
  {
   "cell_type": "code",
   "execution_count": 56,
   "metadata": {},
   "outputs": [
    {
     "name": "stderr",
     "output_type": "stream",
     "text": [
      "Using TensorFlow backend.\n"
     ]
    }
   ],
   "source": [
    "import keras\n",
    "from keras.models import Sequential\n",
    "nn_model = Sequential()\n",
    "from keras.layers import InputLayer, Dense\n",
    "nn_model.add(InputLayer(input_shape = (80, )))"
   ]
  },
  {
   "cell_type": "code",
   "execution_count": 57,
   "metadata": {},
   "outputs": [
    {
     "name": "stdout",
     "output_type": "stream",
     "text": [
      "_________________________________________________________________\n",
      "Layer (type)                 Output Shape              Param #   \n",
      "=================================================================\n",
      "Total params: 0\n",
      "Trainable params: 0\n",
      "Non-trainable params: 0\n",
      "_________________________________________________________________\n"
     ]
    }
   ],
   "source": [
    "nn_model.summary()"
   ]
  },
  {
   "cell_type": "code",
   "execution_count": 58,
   "metadata": {},
   "outputs": [],
   "source": [
    "nn_model.add(Dense(units=10, activation='sigmoid'))"
   ]
  },
  {
   "cell_type": "code",
   "execution_count": 59,
   "metadata": {},
   "outputs": [
    {
     "name": "stdout",
     "output_type": "stream",
     "text": [
      "_________________________________________________________________\n",
      "Layer (type)                 Output Shape              Param #   \n",
      "=================================================================\n",
      "dense_1 (Dense)              (None, 10)                810       \n",
      "_________________________________________________________________\n",
      "dense_2 (Dense)              (None, 6)                 66        \n",
      "_________________________________________________________________\n",
      "dense_3 (Dense)              (None, 3)                 21        \n",
      "_________________________________________________________________\n",
      "dense_4 (Dense)              (None, 1)                 4         \n",
      "=================================================================\n",
      "Total params: 901\n",
      "Trainable params: 901\n",
      "Non-trainable params: 0\n",
      "_________________________________________________________________\n"
     ]
    }
   ],
   "source": [
    "nn_model.add(Dense(units=6, activation='sigmoid'))\n",
    "nn_model.add(Dense(units=3, activation='sigmoid'))\n",
    "nn_model.add(Dense(units=1, activation='sigmoid'))\n",
    "nn_model.summary()"
   ]
  },
  {
   "cell_type": "code",
   "execution_count": 60,
   "metadata": {},
   "outputs": [],
   "source": [
    "nn_model.compile(optimizer='sgd', loss='mean_squared_error', metrics=['accuracy'])"
   ]
  },
  {
   "cell_type": "code",
   "execution_count": 61,
   "metadata": {},
   "outputs": [
    {
     "name": "stdout",
     "output_type": "stream",
     "text": [
      "Train on 22622 samples, validate on 7540 samples\n",
      "Epoch 1/20\n",
      "22622/22622 [==============================] - 1s 47us/step - loss: 0.1877 - acc: 0.7503 - val_loss: 0.1859 - val_acc: 0.7533\n",
      "Epoch 2/20\n",
      "22622/22622 [==============================] - 1s 39us/step - loss: 0.1874 - acc: 0.7503 - val_loss: 0.1858 - val_acc: 0.7533\n",
      "Epoch 3/20\n",
      "22622/22622 [==============================] - 1s 37us/step - loss: 0.1874 - acc: 0.7503 - val_loss: 0.1859 - val_acc: 0.7533\n",
      "Epoch 4/20\n",
      "22622/22622 [==============================] - 1s 37us/step - loss: 0.1874 - acc: 0.7503 - val_loss: 0.1859 - val_acc: 0.7533\n",
      "Epoch 5/20\n",
      "22622/22622 [==============================] - 1s 37us/step - loss: 0.1874 - acc: 0.7503 - val_loss: 0.1859 - val_acc: 0.7533\n",
      "Epoch 6/20\n",
      "22622/22622 [==============================] - 1s 40us/step - loss: 0.1874 - acc: 0.7503 - val_loss: 0.1859 - val_acc: 0.7533\n",
      "Epoch 7/20\n",
      "22622/22622 [==============================] - 1s 39us/step - loss: 0.1874 - acc: 0.7503 - val_loss: 0.1859 - val_acc: 0.7533\n",
      "Epoch 8/20\n",
      "22622/22622 [==============================] - 1s 38us/step - loss: 0.1874 - acc: 0.7503 - val_loss: 0.1858 - val_acc: 0.7533\n",
      "Epoch 9/20\n",
      "22622/22622 [==============================] - 1s 40us/step - loss: 0.1874 - acc: 0.7503 - val_loss: 0.1859 - val_acc: 0.7533\n",
      "Epoch 10/20\n",
      "22622/22622 [==============================] - 1s 37us/step - loss: 0.1874 - acc: 0.7503 - val_loss: 0.1859 - val_acc: 0.7533\n",
      "Epoch 11/20\n",
      "22622/22622 [==============================] - 1s 38us/step - loss: 0.1874 - acc: 0.7503 - val_loss: 0.1859 - val_acc: 0.7533\n",
      "Epoch 12/20\n",
      "22622/22622 [==============================] - 1s 37us/step - loss: 0.1874 - acc: 0.7503 - val_loss: 0.1859 - val_acc: 0.7533\n",
      "Epoch 13/20\n",
      "22622/22622 [==============================] - 1s 39us/step - loss: 0.1874 - acc: 0.7503 - val_loss: 0.1859 - val_acc: 0.7533\n",
      "Epoch 14/20\n",
      "22622/22622 [==============================] - 1s 38us/step - loss: 0.1874 - acc: 0.7503 - val_loss: 0.1859 - val_acc: 0.7533\n",
      "Epoch 15/20\n",
      "22622/22622 [==============================] - 1s 38us/step - loss: 0.1874 - acc: 0.7503 - val_loss: 0.1859 - val_acc: 0.7533\n",
      "Epoch 16/20\n",
      "22622/22622 [==============================] - 1s 38us/step - loss: 0.1874 - acc: 0.7503 - val_loss: 0.1859 - val_acc: 0.7533\n",
      "Epoch 17/20\n",
      "22622/22622 [==============================] - 1s 39us/step - loss: 0.1874 - acc: 0.7503 - val_loss: 0.1859 - val_acc: 0.7533\n",
      "Epoch 18/20\n",
      "22622/22622 [==============================] - 1s 38us/step - loss: 0.1874 - acc: 0.7503 - val_loss: 0.1859 - val_acc: 0.7533\n",
      "Epoch 19/20\n",
      "22622/22622 [==============================] - 1s 37us/step - loss: 0.1874 - acc: 0.7503 - val_loss: 0.1859 - val_acc: 0.7533\n",
      "Epoch 20/20\n",
      "22622/22622 [==============================] - 1s 41us/step - loss: 0.1874 - acc: 0.7503 - val_loss: 0.1859 - val_acc: 0.7533\n"
     ]
    },
    {
     "data": {
      "text/plain": [
       "<keras.callbacks.History at 0x204fda85a90>"
      ]
     },
     "execution_count": 61,
     "metadata": {},
     "output_type": "execute_result"
    }
   ],
   "source": [
    "nn_model.fit(x=adult_train_x, y=adult_train_y, epochs=20, \n",
    "             validation_data=(adult_valid_x, adult_valid_y))"
   ]
  },
  {
   "cell_type": "code",
   "execution_count": 62,
   "metadata": {},
   "outputs": [
    {
     "data": {
      "text/plain": [
       "[0.18735213177915108, 0.7503315356943169]"
      ]
     },
     "execution_count": 62,
     "metadata": {},
     "output_type": "execute_result"
    }
   ],
   "source": [
    "nn_model.evaluate(adult_train_x, adult_train_y, verbose = 0)"
   ]
  },
  {
   "cell_type": "code",
   "execution_count": 63,
   "metadata": {},
   "outputs": [
    {
     "data": {
      "text/plain": [
       "[0.1858567385363642, 0.7533156498989945]"
      ]
     },
     "execution_count": 63,
     "metadata": {},
     "output_type": "execute_result"
    }
   ],
   "source": [
    "nn_model.evaluate(adult_valid_x, adult_valid_y, verbose = 0)"
   ]
  },
  {
   "cell_type": "markdown",
   "metadata": {},
   "source": [
    "#### MLP for binary classification 이용\n",
    "dropout을 이용했을 때 evaluation 결과에 따르면 accuracy가 약 24% 정도밖에 나오지 않기 때문에 이를 이용하지 않는 것이 성능에 더 유리하다. "
   ]
  },
  {
   "cell_type": "code",
   "execution_count": 64,
   "metadata": {},
   "outputs": [
    {
     "name": "stdout",
     "output_type": "stream",
     "text": [
      "Train on 22622 samples, validate on 7540 samples\n",
      "Epoch 1/20\n",
      "22622/22622 [==============================] - 1s 41us/step - loss: 0.1874 - acc: 0.7503 - val_loss: 0.1859 - val_acc: 0.7533\n",
      "Epoch 2/20\n",
      "22622/22622 [==============================] - 1s 40us/step - loss: 0.1874 - acc: 0.7503 - val_loss: 0.1859 - val_acc: 0.7533\n",
      "Epoch 3/20\n",
      "22622/22622 [==============================] - 1s 39us/step - loss: 0.1874 - acc: 0.7503 - val_loss: 0.1859 - val_acc: 0.7533\n",
      "Epoch 4/20\n",
      "22622/22622 [==============================] - 1s 47us/step - loss: 0.1874 - acc: 0.7503 - val_loss: 0.1859 - val_acc: 0.7533\n",
      "Epoch 5/20\n",
      "22622/22622 [==============================] - 1s 51us/step - loss: 0.1874 - acc: 0.7503 - val_loss: 0.1859 - val_acc: 0.7533\n",
      "Epoch 6/20\n",
      "22622/22622 [==============================] - 1s 42us/step - loss: 0.1874 - acc: 0.7503 - val_loss: 0.1859 - val_acc: 0.7533\n",
      "Epoch 7/20\n",
      "22622/22622 [==============================] - 1s 43us/step - loss: 0.1874 - acc: 0.7503 - val_loss: 0.1859 - val_acc: 0.7533\n",
      "Epoch 8/20\n",
      "22622/22622 [==============================] - 1s 48us/step - loss: 0.1874 - acc: 0.7503 - val_loss: 0.1859 - val_acc: 0.7533\n",
      "Epoch 9/20\n",
      "22622/22622 [==============================] - 1s 55us/step - loss: 0.1874 - acc: 0.7503 - val_loss: 0.1859 - val_acc: 0.7533\n",
      "Epoch 10/20\n",
      "22622/22622 [==============================] - 1s 54us/step - loss: 0.1874 - acc: 0.7503 - val_loss: 0.1859 - val_acc: 0.7533\n",
      "Epoch 11/20\n",
      "22622/22622 [==============================] - 1s 54us/step - loss: 0.1874 - acc: 0.7503 - val_loss: 0.1859 - val_acc: 0.7533\n",
      "Epoch 12/20\n",
      "22622/22622 [==============================] - 1s 56us/step - loss: 0.1874 - acc: 0.7503 - val_loss: 0.1859 - val_acc: 0.7533\n",
      "Epoch 13/20\n",
      "22622/22622 [==============================] - 1s 54us/step - loss: 0.1874 - acc: 0.7503 - val_loss: 0.1859 - val_acc: 0.7533\n",
      "Epoch 14/20\n",
      "22622/22622 [==============================] - 1s 55us/step - loss: 0.1874 - acc: 0.7503 - val_loss: 0.1859 - val_acc: 0.7533\n",
      "Epoch 15/20\n",
      "22622/22622 [==============================] - 1s 54us/step - loss: 0.1874 - acc: 0.7503 - val_loss: 0.1859 - val_acc: 0.7533\n",
      "Epoch 16/20\n",
      "22622/22622 [==============================] - 1s 50us/step - loss: 0.1874 - acc: 0.7503 - val_loss: 0.1859 - val_acc: 0.7533\n",
      "Epoch 17/20\n",
      "22622/22622 [==============================] - 1s 42us/step - loss: 0.1874 - acc: 0.7503 - val_loss: 0.1859 - val_acc: 0.7533\n",
      "Epoch 18/20\n",
      "22622/22622 [==============================] - 1s 47us/step - loss: 0.1874 - acc: 0.7503 - val_loss: 0.1858 - val_acc: 0.7533\n",
      "Epoch 19/20\n",
      "22622/22622 [==============================] - 1s 47us/step - loss: 0.1874 - acc: 0.7503 - val_loss: 0.1859 - val_acc: 0.7533\n",
      "Epoch 20/20\n",
      "22622/22622 [==============================] - 1s 44us/step - loss: 0.1874 - acc: 0.7503 - val_loss: 0.1859 - val_acc: 0.7533\n"
     ]
    },
    {
     "data": {
      "text/plain": [
       "<keras.callbacks.History at 0x204fdb8d438>"
      ]
     },
     "execution_count": 64,
     "metadata": {},
     "output_type": "execute_result"
    }
   ],
   "source": [
    "from keras.layers import Dropout\n",
    "from keras.optimizers import RMSprop\n",
    "nn_model2 = Sequential()\n",
    "nn_model2.add(Dense(64, activation='relu', input_shape=(80,)))\n",
    "nn_model2.add(Dropout(0.5))\n",
    "nn_model2.add(Dense(64, activation='relu'))\n",
    "nn_model2.add(Dropout(0.5))\n",
    "nn_model2.add(Dense(1, activation='sigmoid'))\n",
    "nn_model2.compile(loss='binary_crossentropy',optimizer='rmsprop',metrics=['accuracy'])\n",
    "nn_model.fit(x=adult_train_x, y=adult_train_y, epochs=20,\n",
    "             validation_data=(adult_valid_x, adult_valid_y))"
   ]
  },
  {
   "cell_type": "code",
   "execution_count": 65,
   "metadata": {},
   "outputs": [
    {
     "name": "stdout",
     "output_type": "stream",
     "text": [
      "22622/22622 [==============================] - 1s 25us/step\n"
     ]
    },
    {
     "data": {
      "text/plain": [
       "[12.21485264241648, 0.23371054725883683]"
      ]
     },
     "execution_count": 65,
     "metadata": {},
     "output_type": "execute_result"
    }
   ],
   "source": [
    "nn_model2.evaluate(adult_train_x, adult_train_y)"
   ]
  },
  {
   "cell_type": "code",
   "execution_count": 66,
   "metadata": {},
   "outputs": [
    {
     "name": "stdout",
     "output_type": "stream",
     "text": [
      "7540/7540 [==============================] - 0s 23us/step\n"
     ]
    },
    {
     "data": {
      "text/plain": [
       "[12.29821758422042, 0.22864721485806397]"
      ]
     },
     "execution_count": 66,
     "metadata": {},
     "output_type": "execute_result"
    }
   ],
   "source": [
    "nn_model2.evaluate(adult_valid_x, adult_valid_y)"
   ]
  },
  {
   "cell_type": "markdown",
   "metadata": {},
   "source": [
    "위의 MLP for binary classification에서 좋은 성능을 얻지 못했기 때문에 이번에는 Adam을 이용해서 model을 만들어보았다. 이 model의 성능은 약 75%로, 기존의 것보다 더 좋은 성능을 보이는 것으로 나타났다.  "
   ]
  },
  {
   "cell_type": "code",
   "execution_count": 67,
   "metadata": {},
   "outputs": [
    {
     "name": "stdout",
     "output_type": "stream",
     "text": [
      "Train on 22622 samples, validate on 7540 samples\n",
      "Epoch 1/20\n",
      "22622/22622 [==============================] - 3s 125us/step - loss: 6.2771 - acc: 0.6081 - val_loss: 3.9761 - val_acc: 0.7533\n",
      "Epoch 2/20\n",
      "22622/22622 [==============================] - 2s 107us/step - loss: 4.6431 - acc: 0.7113 - val_loss: 3.9761 - val_acc: 0.7533\n",
      "Epoch 3/20\n",
      "22622/22622 [==============================] - 2s 109us/step - loss: 4.2546 - acc: 0.7357 - val_loss: 3.9761 - val_acc: 0.7533\n",
      "Epoch 4/20\n",
      "22622/22622 [==============================] - 2s 109us/step - loss: 4.1766 - acc: 0.7407 - val_loss: 3.9761 - val_acc: 0.7533\n",
      "Epoch 5/20\n",
      "22622/22622 [==============================] - 2s 110us/step - loss: 4.1184 - acc: 0.7443 - val_loss: 3.9761 - val_acc: 0.7533\n",
      "Epoch 6/20\n",
      "22622/22622 [==============================] - 2s 109us/step - loss: 4.0770 - acc: 0.7470 - val_loss: 3.9761 - val_acc: 0.7533\n",
      "Epoch 7/20\n",
      "22622/22622 [==============================] - 2s 109us/step - loss: 4.0972 - acc: 0.7457 - val_loss: 3.9761 - val_acc: 0.7533\n",
      "Epoch 8/20\n",
      "22622/22622 [==============================] - 2s 110us/step - loss: 4.1223 - acc: 0.7441 - val_loss: 3.9761 - val_acc: 0.7533\n",
      "Epoch 9/20\n",
      "22622/22622 [==============================] - 3s 112us/step - loss: 4.1010 - acc: 0.7455 - val_loss: 3.9761 - val_acc: 0.7533\n",
      "Epoch 10/20\n",
      "22622/22622 [==============================] - 3s 114us/step - loss: 4.0850 - acc: 0.7465 - val_loss: 3.9761 - val_acc: 0.7533\n",
      "Epoch 11/20\n",
      "22622/22622 [==============================] - 3s 116us/step - loss: 4.0733 - acc: 0.7472 - val_loss: 3.9761 - val_acc: 0.7533\n",
      "Epoch 12/20\n",
      "22622/22622 [==============================] - 3s 112us/step - loss: 4.0486 - acc: 0.7488 - val_loss: 3.9761 - val_acc: 0.7533\n",
      "Epoch 13/20\n",
      "22622/22622 [==============================] - 3s 111us/step - loss: 4.0630 - acc: 0.7479 - val_loss: 3.9761 - val_acc: 0.7533\n",
      "Epoch 14/20\n",
      "22622/22622 [==============================] - 3s 113us/step - loss: 4.0663 - acc: 0.7477 - val_loss: 3.9761 - val_acc: 0.7533\n",
      "Epoch 15/20\n",
      "22622/22622 [==============================] - 3s 112us/step - loss: 4.0550 - acc: 0.7484 - val_loss: 3.9761 - val_acc: 0.7533\n",
      "Epoch 16/20\n",
      "22622/22622 [==============================] - 3s 111us/step - loss: 4.0515 - acc: 0.7486 - val_loss: 3.9761 - val_acc: 0.7533\n",
      "Epoch 17/20\n",
      "22622/22622 [==============================] - 3s 114us/step - loss: 4.0553 - acc: 0.7483 - val_loss: 3.9761 - val_acc: 0.7533\n",
      "Epoch 18/20\n",
      "22622/22622 [==============================] - 3s 114us/step - loss: 4.0435 - acc: 0.7490 - val_loss: 3.9761 - val_acc: 0.7533\n",
      "Epoch 19/20\n",
      "22622/22622 [==============================] - 3s 114us/step - loss: 4.0473 - acc: 0.7489 - val_loss: 3.9761 - val_acc: 0.7533\n",
      "Epoch 20/20\n",
      "22622/22622 [==============================] - 3s 112us/step - loss: 4.0579 - acc: 0.7482 - val_loss: 3.9761 - val_acc: 0.7533\n"
     ]
    },
    {
     "data": {
      "text/plain": [
       "<keras.callbacks.History at 0x204fc763898>"
      ]
     },
     "execution_count": 67,
     "metadata": {},
     "output_type": "execute_result"
    }
   ],
   "source": [
    "from keras.optimizers import SGD, Adam\n",
    "adam_opt = Adam(lr=0.02, beta_1= 0.5, beta_2=0.9)\n",
    "adam_opt = Adam(lr=0.02, beta_1= 0.5, beta_2=0.9)\n",
    "nn_model2.fit(x=adult_train_x, y=adult_train_y, batch_size=16, epochs=20,\n",
    "              validation_data=(adult_valid_x, adult_valid_y))"
   ]
  },
  {
   "cell_type": "code",
   "execution_count": 68,
   "metadata": {},
   "outputs": [
    {
     "name": "stdout",
     "output_type": "stream",
     "text": [
      "7540/7540 [==============================] - 0s 22us/step\n"
     ]
    },
    {
     "data": {
      "text/plain": [
       "[3.9760819126503537, 0.7533156498989945]"
      ]
     },
     "execution_count": 68,
     "metadata": {},
     "output_type": "execute_result"
    }
   ],
   "source": [
    "nn_model2.evaluate(adult_valid_x, adult_valid_y)"
   ]
  },
  {
   "cell_type": "markdown",
   "metadata": {},
   "source": [
    "### 4. 결론\n",
    "같은 dataset에 대해서 다른 classifier로 실험을 할 때, 다른 점이 상당히 많다는 것을 통해서 dataset과 classifier의 특징을 더 자세히 알 수 있게 되었다. 첫 번째 과제에서는 dataset 자체를 보면서 알아낼 수 있는 정보보다는 여러 모델을 통해 직접 실험을 한 결과가 dataset에 대한 더 깊은 이해를 가져다준다고 생각했다. 그러나 이번 실험을 통해서는 여러 tool을 통해 dataset에 대해서도 미리 어느 정도 이해를 할 수 있음을 알았다. 또한 여러 classifier를 통해서 성능을 비교함으로써 더 나은 결과를 얻을 수 있다는 것을 알게 되었다. "
   ]
  }
 ],
 "metadata": {
  "kernelspec": {
   "display_name": "Python 3",
   "language": "python",
   "name": "python3"
  },
  "language_info": {
   "codemirror_mode": {
    "name": "ipython",
    "version": 3
   },
   "file_extension": ".py",
   "mimetype": "text/x-python",
   "name": "python",
   "nbconvert_exporter": "python",
   "pygments_lexer": "ipython3",
   "version": "3.6.7"
  }
 },
 "nbformat": 4,
 "nbformat_minor": 2
}
